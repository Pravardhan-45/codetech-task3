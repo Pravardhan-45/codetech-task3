{
 "cells": [
  {
   "cell_type": "code",
   "execution_count": null,
   "id": "5f20a30c-112b-4272-b3eb-66b1cf94e476",
   "metadata": {},
   "outputs": [],
   "source": []
  }
 ],
 "metadata": {
  "kernelspec": {
   "display_name": "",
   "name": ""
  },
  "language_info": {
   "name": ""
  }
 },
 "nbformat": 4,
 "nbformat_minor": 5
}
